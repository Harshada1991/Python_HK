{
  "nbformat": 4,
  "nbformat_minor": 0,
  "metadata": {
    "colab": {
      "provenance": [],
      "authorship_tag": "ABX9TyPMVo4+eMe/VfA0YfbCWv6K",
      "include_colab_link": true
    },
    "kernelspec": {
      "name": "python3",
      "display_name": "Python 3"
    },
    "language_info": {
      "name": "python"
    }
  },
  "cells": [
    {
      "cell_type": "markdown",
      "metadata": {
        "id": "view-in-github",
        "colab_type": "text"
      },
      "source": [
        "<a href=\"https://colab.research.google.com/github/Harshada1991/Python_HK/blob/main/hkpython1.ipynb\" target=\"_parent\"><img src=\"https://colab.research.google.com/assets/colab-badge.svg\" alt=\"Open In Colab\"/></a>"
      ]
    },
    {
      "cell_type": "code",
      "execution_count": null,
      "metadata": {
        "id": "uCj6dxV6eMuA"
      },
      "outputs": [],
      "source": [
        "#My name is harashada"
      ]
    },
    {
      "cell_type": "code",
      "source": [
        "1+1"
      ],
      "metadata": {
        "colab": {
          "base_uri": "https://localhost:8080/"
        },
        "id": "Q_6ixJPzgH76",
        "outputId": "c9ec4830-0478-4c18-883f-5930b90fe880"
      },
      "execution_count": null,
      "outputs": [
        {
          "output_type": "execute_result",
          "data": {
            "text/plain": [
              "2"
            ]
          },
          "metadata": {},
          "execution_count": 5
        }
      ]
    },
    {
      "cell_type": "code",
      "source": [
        "10* 'str'"
      ],
      "metadata": {
        "colab": {
          "base_uri": "https://localhost:8080/",
          "height": 35
        },
        "id": "TXqGInXKgZLu",
        "outputId": "166e236f-ba66-4bbd-e568-8d957e1b2e5b"
      },
      "execution_count": null,
      "outputs": [
        {
          "output_type": "execute_result",
          "data": {
            "text/plain": [
              "'strstrstrstrstrstrstrstrstrstr'"
            ],
            "application/vnd.google.colaboratory.intrinsic+json": {
              "type": "string"
            }
          },
          "metadata": {},
          "execution_count": 7
        }
      ]
    },
    {
      "cell_type": "markdown",
      "source": [],
      "metadata": {
        "id": "Sc_ODkrkgIc8"
      }
    },
    {
      "cell_type": "code",
      "source": [
        "type(\"harshu\")\n"
      ],
      "metadata": {
        "colab": {
          "base_uri": "https://localhost:8080/"
        },
        "id": "8Q8WCl9Bg5g4",
        "outputId": "81a9f536-34bb-4f1c-a839-15f914156349"
      },
      "execution_count": null,
      "outputs": [
        {
          "output_type": "execute_result",
          "data": {
            "text/plain": [
              "str"
            ]
          },
          "metadata": {},
          "execution_count": 8
        }
      ]
    },
    {
      "cell_type": "code",
      "source": [],
      "metadata": {
        "id": "6YzX1F7pRoAP"
      },
      "execution_count": null,
      "outputs": []
    },
    {
      "cell_type": "code",
      "source": [
        "my_str=Harshada\n",
        "my_str."
      ],
      "metadata": {
        "id": "s65lNxLoRrwm"
      },
      "execution_count": null,
      "outputs": []
    },
    {
      "cell_type": "code",
      "source": [
        "type('khandekar')"
      ],
      "metadata": {
        "colab": {
          "base_uri": "https://localhost:8080/"
        },
        "id": "O9tIpUQphDoh",
        "outputId": "34d13c9c-5012-4a27-ae24-5bc77e927e51"
      },
      "execution_count": null,
      "outputs": [
        {
          "output_type": "execute_result",
          "data": {
            "text/plain": [
              "str"
            ]
          },
          "metadata": {},
          "execution_count": 9
        }
      ]
    },
    {
      "cell_type": "markdown",
      "source": [],
      "metadata": {
        "id": "OrIsQQNWh2NH"
      }
    },
    {
      "cell_type": "code",
      "source": [
        "a=\"tapas\"\n",
        "b='khandekar'\n",
        "print(a+b)\n"
      ],
      "metadata": {
        "colab": {
          "base_uri": "https://localhost:8080/"
        },
        "id": "xg9_y4B8h56c",
        "outputId": "02c5101c-a33a-4587-a475-929b00238c0f"
      },
      "execution_count": null,
      "outputs": [
        {
          "output_type": "stream",
          "name": "stdout",
          "text": [
            "tapaskhandekar\n"
          ]
        }
      ]
    },
    {
      "cell_type": "code",
      "source": [
        "a=9\n",
        "b=18\n",
        "print(a+b)"
      ],
      "metadata": {
        "colab": {
          "base_uri": "https://localhost:8080/"
        },
        "id": "NkwvhapiiYix",
        "outputId": "796a2cfa-770a-4876-86f5-59b2cdbf96e8"
      },
      "execution_count": null,
      "outputs": [
        {
          "output_type": "stream",
          "name": "stdout",
          "text": [
            "27\n"
          ]
        }
      ]
    },
    {
      "cell_type": "code",
      "source": [
        "a='akshu'\n",
        "b=\"dandwt\"\n",
        "print(\"my sis first name is {} and sec is {}\".format(a,b))\n",
        "\n",
        "print(\"my sis first name is {first} and sec is {second}\".format(first=a,second=b))"
      ],
      "metadata": {
        "colab": {
          "base_uri": "https://localhost:8080/"
        },
        "id": "sfbiwBSdkG1v",
        "outputId": "9002deca-bfc3-4fcf-e637-760ca18cccdf"
      },
      "execution_count": null,
      "outputs": [
        {
          "output_type": "stream",
          "name": "stdout",
          "text": [
            "my sis first name is akshu and sec is dandwt\n",
            "my sis first name is akshu and sec is dandwt\n"
          ]
        }
      ]
    },
    {
      "cell_type": "markdown",
      "source": [],
      "metadata": {
        "id": "lYc7SCCKN7Ey"
      }
    },
    {
      "cell_type": "code",
      "source": [
        "type(True)\n"
      ],
      "metadata": {
        "colab": {
          "base_uri": "https://localhost:8080/"
        },
        "id": "yMqI8BzkOAvQ",
        "outputId": "a4936e71-b407-4173-ae68-076fd4bcce20"
      },
      "execution_count": null,
      "outputs": [
        {
          "output_type": "execute_result",
          "data": {
            "text/plain": [
              "bool"
            ]
          },
          "metadata": {},
          "execution_count": 4
        }
      ]
    },
    {
      "cell_type": "code",
      "source": [
        "var='mystring'\n",
        "print(var.startswith('y'))"
      ],
      "metadata": {
        "colab": {
          "base_uri": "https://localhost:8080/"
        },
        "id": "BkNl79YUNSmU",
        "outputId": "596ecb0a-6c27-4ff5-b7ce-f612db750797"
      },
      "execution_count": null,
      "outputs": [
        {
          "output_type": "stream",
          "name": "stdout",
          "text": [
            "False\n"
          ]
        }
      ]
    },
    {
      "cell_type": "code",
      "source": [
        "True or False"
      ],
      "metadata": {
        "colab": {
          "base_uri": "https://localhost:8080/"
        },
        "id": "RpmQRxshUV93",
        "outputId": "14e9c74b-a28b-4dad-fd94-968ed1495e36"
      },
      "execution_count": null,
      "outputs": [
        {
          "output_type": "execute_result",
          "data": {
            "text/plain": [
              "True"
            ]
          },
          "metadata": {},
          "execution_count": 13
        }
      ]
    },
    {
      "cell_type": "code",
      "source": [
        "True and False"
      ],
      "metadata": {
        "colab": {
          "base_uri": "https://localhost:8080/"
        },
        "id": "r3TkHCOgUcYf",
        "outputId": "d2f567b3-fcfe-417e-b6d6-8ecbcc34abf1"
      },
      "execution_count": null,
      "outputs": [
        {
          "output_type": "execute_result",
          "data": {
            "text/plain": [
              "False"
            ]
          },
          "metadata": {},
          "execution_count": 14
        }
      ]
    },
    {
      "cell_type": "code",
      "source": [
        "vara='Yystring'\n",
        "print(vara.istitle())"
      ],
      "metadata": {
        "colab": {
          "base_uri": "https://localhost:8080/"
        },
        "id": "cqcmSaLPOGJf",
        "outputId": "4b4326ce-a305-47cd-d9dc-bab4a88eeb75"
      },
      "execution_count": null,
      "outputs": [
        {
          "output_type": "stream",
          "name": "stdout",
          "text": [
            "True\n"
          ]
        }
      ]
    },
    {
      "cell_type": "markdown",
      "source": [],
      "metadata": {
        "id": "pFXI6RQIh2UA"
      }
    },
    {
      "cell_type": "code",
      "source": [
        "var='mystring'\n",
        "var2='123_abs'\n",
        "var.isalpha() and var2.isalpha()\n"
      ],
      "metadata": {
        "colab": {
          "base_uri": "https://localhost:8080/"
        },
        "id": "ndAjiqwDUjk4",
        "outputId": "d49c5ff9-03aa-4ecc-d0d0-0766ac300793"
      },
      "execution_count": null,
      "outputs": [
        {
          "output_type": "execute_result",
          "data": {
            "text/plain": [
              "False"
            ]
          },
          "metadata": {},
          "execution_count": 24
        }
      ]
    },
    {
      "cell_type": "code",
      "source": [
        "type([])"
      ],
      "metadata": {
        "colab": {
          "base_uri": "https://localhost:8080/"
        },
        "id": "7z78Xy-nY8EG",
        "outputId": "e315f7cc-515d-4044-b77c-be4dae0bc91c"
      },
      "execution_count": null,
      "outputs": [
        {
          "output_type": "execute_result",
          "data": {
            "text/plain": [
              "list"
            ]
          },
          "metadata": {},
          "execution_count": 25
        }
      ]
    },
    {
      "cell_type": "code",
      "source": [
        "var=[1,3,4,'hars',\"abc\"]\n",
        "\n",
        "var"
      ],
      "metadata": {
        "colab": {
          "base_uri": "https://localhost:8080/"
        },
        "id": "JkEesQDXZClk",
        "outputId": "bd5283f6-8b69-4e39-dd92-6a81d7e30e52"
      },
      "execution_count": null,
      "outputs": [
        {
          "output_type": "execute_result",
          "data": {
            "text/plain": [
              "[1, 3, 4, 'hars', 'abc']"
            ]
          },
          "metadata": {},
          "execution_count": 7
        }
      ]
    },
    {
      "cell_type": "code",
      "source": [
        "var.append(\"daddy\")\n"
      ],
      "metadata": {
        "id": "Mmkm1x_SZo-Z"
      },
      "execution_count": null,
      "outputs": []
    },
    {
      "cell_type": "code",
      "source": [
        "var.append([\"daddy\",\"mommy\"])\n",
        "print(var)"
      ],
      "metadata": {
        "colab": {
          "base_uri": "https://localhost:8080/"
        },
        "id": "aNslBToWaDAB",
        "outputId": "097d23b6-1fc7-4262-9dc4-f7b9d365698b"
      },
      "execution_count": null,
      "outputs": [
        {
          "output_type": "stream",
          "name": "stdout",
          "text": [
            "[1, 3, 4, 'hars', 'abc', 'daddy', ['daddy', 'mommy'], ['daddy', 'mommy'], ['daddy', 'mommy']]\n"
          ]
        }
      ]
    },
    {
      "cell_type": "code",
      "source": [],
      "metadata": {
        "id": "WREULi3NaTXS"
      },
      "execution_count": null,
      "outputs": []
    },
    {
      "cell_type": "markdown",
      "source": [],
      "metadata": {
        "id": "2n1XEUduaWvw"
      }
    },
    {
      "cell_type": "markdown",
      "source": [
        "so appends has only 1 input, if more than 1 insode [] , means it will be appeneded at cascaded element. If u want to insert at particular place\n"
      ],
      "metadata": {
        "id": "SYVxFhHJaXs5"
      }
    },
    {
      "cell_type": "code",
      "source": [
        "var.insert(1,\"1stElement\")\n",
        "print(var)"
      ],
      "metadata": {
        "colab": {
          "base_uri": "https://localhost:8080/"
        },
        "id": "YIF2SCUMav0n",
        "outputId": "7389015f-dbfb-4e69-9f55-a3422e71ac41"
      },
      "execution_count": null,
      "outputs": [
        {
          "output_type": "stream",
          "name": "stdout",
          "text": [
            "[1, '1stElement', 3, 4, 'hars', 'abc']\n"
          ]
        }
      ]
    },
    {
      "cell_type": "markdown",
      "source": [],
      "metadata": {
        "id": "6SR1xr0cbE5D"
      }
    },
    {
      "cell_type": "code",
      "source": [
        "list2=  list();\n",
        "print(type(list2))\n",
        "\n",
        "list2.append(var);\n",
        "print(list2)\n",
        "list2"
      ],
      "metadata": {
        "colab": {
          "base_uri": "https://localhost:8080/"
        },
        "id": "1wA-DY3KbQMF",
        "outputId": "d529eb3c-1699-4d8a-e39d-32f7f6c9523c"
      },
      "execution_count": null,
      "outputs": [
        {
          "output_type": "stream",
          "name": "stdout",
          "text": [
            "<class 'list'>\n",
            "[[1, '1stElement', 3, 4, 'hars', 'abc']]\n"
          ]
        },
        {
          "output_type": "execute_result",
          "data": {
            "text/plain": [
              "[[1, '1stElement', 3, 4, 'hars', 'abc']]"
            ]
          },
          "metadata": {},
          "execution_count": 9
        }
      ]
    },
    {
      "cell_type": "code",
      "source": [
        "list2"
      ],
      "metadata": {
        "colab": {
          "base_uri": "https://localhost:8080/"
        },
        "id": "l8DUh4vuS_bn",
        "outputId": "e42731b8-844b-4748-8552-741fa972d87f"
      },
      "execution_count": null,
      "outputs": [
        {
          "output_type": "execute_result",
          "data": {
            "text/plain": [
              "[[1, '1stElement', 3, 4, 'hars', 'abc']]"
            ]
          },
          "metadata": {},
          "execution_count": 10
        }
      ]
    },
    {
      "cell_type": "code",
      "source": [
        "list2[:]"
      ],
      "metadata": {
        "colab": {
          "base_uri": "https://localhost:8080/"
        },
        "id": "ZTELxU7kTMhH",
        "outputId": "92d264be-9e53-4fa8-dc90-f20c4fd229e6"
      },
      "execution_count": null,
      "outputs": [
        {
          "output_type": "execute_result",
          "data": {
            "text/plain": [
              "[[1, '1stElement', 3, 4, 'hars', 'abc']]"
            ]
          },
          "metadata": {},
          "execution_count": 14
        }
      ]
    },
    {
      "cell_type": "code",
      "source": [
        "list2[:]\n"
      ],
      "metadata": {
        "colab": {
          "base_uri": "https://localhost:8080/"
        },
        "id": "XXtQbEYvYT1b",
        "outputId": "63d30b0e-80b8-4e7f-d012-55d5d1e484a5"
      },
      "execution_count": null,
      "outputs": [
        {
          "output_type": "execute_result",
          "data": {
            "text/plain": [
              "[[1, '1stElement', 3, 4, 'hars', 'abc']]"
            ]
          },
          "metadata": {},
          "execution_count": 16
        }
      ]
    },
    {
      "cell_type": "code",
      "source": [
        "list2"
      ],
      "metadata": {
        "colab": {
          "base_uri": "https://localhost:8080/"
        },
        "id": "nDDxTuUXY5Gt",
        "outputId": "182eb9fe-384e-47fd-d35f-596fc203e20d"
      },
      "execution_count": null,
      "outputs": [
        {
          "output_type": "execute_result",
          "data": {
            "text/plain": [
              "[[1, '1stElement', 3, 4, 'hars', 'abc']]"
            ]
          },
          "metadata": {},
          "execution_count": 17
        }
      ]
    },
    {
      "cell_type": "code",
      "source": [
        "list2[:1]"
      ],
      "metadata": {
        "colab": {
          "base_uri": "https://localhost:8080/"
        },
        "id": "jDzO0DM7ZA1t",
        "outputId": "7469fcb9-97f6-4cd0-e6fb-e7e0438e879a"
      },
      "execution_count": null,
      "outputs": [
        {
          "output_type": "execute_result",
          "data": {
            "text/plain": [
              "[[1, '1stElement', 3, 4, 'hars', 'abc']]"
            ]
          },
          "metadata": {},
          "execution_count": 18
        }
      ]
    },
    {
      "cell_type": "code",
      "source": [
        "list2[2:4]"
      ],
      "metadata": {
        "colab": {
          "base_uri": "https://localhost:8080/"
        },
        "id": "8xoDtymvZK-0",
        "outputId": "dd14036f-e84a-4f66-987d-57db93d34cef"
      },
      "execution_count": null,
      "outputs": [
        {
          "output_type": "execute_result",
          "data": {
            "text/plain": [
              "[]"
            ]
          },
          "metadata": {},
          "execution_count": 19
        }
      ]
    },
    {
      "cell_type": "code",
      "source": [
        "list2[2:]"
      ],
      "metadata": {
        "colab": {
          "base_uri": "https://localhost:8080/"
        },
        "id": "P8n5OUSeZTbU",
        "outputId": "eceed3fd-78c3-4a5d-b199-f8120399dbee"
      },
      "execution_count": null,
      "outputs": [
        {
          "output_type": "execute_result",
          "data": {
            "text/plain": [
              "[]"
            ]
          },
          "metadata": {},
          "execution_count": 20
        }
      ]
    },
    {
      "cell_type": "code",
      "source": [
        "list2"
      ],
      "metadata": {
        "colab": {
          "base_uri": "https://localhost:8080/"
        },
        "id": "4Dpp-XkDZYOy",
        "outputId": "f6597db6-5934-4fd5-e101-25e41b862b13"
      },
      "execution_count": null,
      "outputs": [
        {
          "output_type": "execute_result",
          "data": {
            "text/plain": [
              "[[1, '1stElement', 3, 4, 'hars', 'abc']]"
            ]
          },
          "metadata": {},
          "execution_count": 21
        }
      ]
    },
    {
      "cell_type": "code",
      "source": [
        "list=[[1, '1stElement', 3, 4, 'hars', 'abc']]\n",
        "list\n"
      ],
      "metadata": {
        "colab": {
          "base_uri": "https://localhost:8080/"
        },
        "id": "iu0YIQyDbSOz",
        "outputId": "724d9fc2-14e7-488c-8779-ee9f0dd67da4"
      },
      "execution_count": null,
      "outputs": [
        {
          "output_type": "execute_result",
          "data": {
            "text/plain": [
              "[[1, '1stElement', 3, 4, 'hars', 'abc']]"
            ]
          },
          "metadata": {},
          "execution_count": 28
        }
      ]
    },
    {
      "cell_type": "code",
      "source": [
        "list=[[1, '1stElement', 3, 4, 'hars', 'abc']]\n",
        "list=[1,3,5,22,7,99]\n",
        "list[2:4]\n",
        "list=[\"2\",\"4\",\"66\",\"88\"]\n",
        "list[2:3]"
      ],
      "metadata": {
        "colab": {
          "base_uri": "https://localhost:8080/"
        },
        "id": "guS7xmA_bbPV",
        "outputId": "179ffa05-6781-4f6f-8c56-ed3b13ff915e"
      },
      "execution_count": null,
      "outputs": [
        {
          "output_type": "execute_result",
          "data": {
            "text/plain": [
              "['66']"
            ]
          },
          "metadata": {},
          "execution_count": 34
        }
      ]
    },
    {
      "cell_type": "code",
      "source": [
        "list=[1,3,5,22,7,99]\n",
        "list.append([77,88])\n",
        "list\n",
        "list.extend([44,22])\n",
        "list\n"
      ],
      "metadata": {
        "colab": {
          "base_uri": "https://localhost:8080/"
        },
        "id": "GmUkzKoocrxI",
        "outputId": "8b4992fb-f692-4fe0-a1e7-9437fe4e3010"
      },
      "execution_count": null,
      "outputs": [
        {
          "output_type": "execute_result",
          "data": {
            "text/plain": [
              "[1, 3, 5, 22, 7, 99, [77, 88], 44, 22]"
            ]
          },
          "metadata": {},
          "execution_count": 38
        }
      ]
    },
    {
      "cell_type": "code",
      "source": [
        "list=[1,3,5,22,7,99,22]\n",
        "sum(list)"
      ],
      "metadata": {
        "colab": {
          "base_uri": "https://localhost:8080/"
        },
        "id": "H_DfkvuFd7GI",
        "outputId": "37933d7c-d429-41c3-a67b-e54d511f6dec"
      },
      "execution_count": null,
      "outputs": [
        {
          "output_type": "execute_result",
          "data": {
            "text/plain": [
              "159"
            ]
          },
          "metadata": {},
          "execution_count": 43
        }
      ]
    },
    {
      "cell_type": "code",
      "source": [
        "list.count(22)\n"
      ],
      "metadata": {
        "colab": {
          "base_uri": "https://localhost:8080/"
        },
        "id": "h1U4G862eUZG",
        "outputId": "8bfdfbfd-1274-4f55-e660-7279fce19618"
      },
      "execution_count": null,
      "outputs": [
        {
          "output_type": "execute_result",
          "data": {
            "text/plain": [
              "2"
            ]
          },
          "metadata": {},
          "execution_count": 44
        }
      ]
    },
    {
      "cell_type": "code",
      "source": [
        "list.pop()"
      ],
      "metadata": {
        "colab": {
          "base_uri": "https://localhost:8080/"
        },
        "id": "vIYtpLEbeh0H",
        "outputId": "66707bcb-fdf1-4af7-9779-1dc1cd138c80"
      },
      "execution_count": null,
      "outputs": [
        {
          "output_type": "execute_result",
          "data": {
            "text/plain": [
              "22"
            ]
          },
          "metadata": {},
          "execution_count": 45
        }
      ]
    },
    {
      "cell_type": "code",
      "source": [
        "list.remove(3)"
      ],
      "metadata": {
        "id": "_5THg8foeyex"
      },
      "execution_count": null,
      "outputs": []
    },
    {
      "cell_type": "code",
      "source": [
        "myList=[1,3,5,22,7,99,22]\n",
        "min(myList)\n",
        "max(myList)"
      ],
      "metadata": {
        "colab": {
          "base_uri": "https://localhost:8080/"
        },
        "id": "KNnNEJcRscKj",
        "outputId": "07ec219d-291e-45c1-8721-2381e0fdb980"
      },
      "execution_count": null,
      "outputs": [
        {
          "output_type": "execute_result",
          "data": {
            "text/plain": [
              "99"
            ]
          },
          "metadata": {},
          "execution_count": 6
        }
      ]
    },
    {
      "cell_type": "code",
      "source": [],
      "metadata": {
        "id": "emTyVqyrtNHS"
      },
      "execution_count": null,
      "outputs": []
    },
    {
      "cell_type": "code",
      "source": [
        "myList.index(22)\n",
        "myList*3"
      ],
      "metadata": {
        "colab": {
          "base_uri": "https://localhost:8080/"
        },
        "id": "-hdU9LIIe30z",
        "outputId": "65010270-7b03-4f26-da72-71b42ce35bf3"
      },
      "execution_count": null,
      "outputs": [
        {
          "output_type": "execute_result",
          "data": {
            "text/plain": [
              "[1, 3, 5, 22, 7, 99, 22, 1, 3, 5, 22, 7, 99, 22, 1, 3, 5, 22, 7, 99, 22]"
            ]
          },
          "metadata": {},
          "execution_count": 8
        }
      ]
    },
    {
      "cell_type": "code",
      "source": [
        "mySet=set()\n",
        "print(type(mySet))"
      ],
      "metadata": {
        "colab": {
          "base_uri": "https://localhost:8080/"
        },
        "id": "1lG_9VT4u4N9",
        "outputId": "2f27903f-9aec-4e59-e50f-f499cf497dc5"
      },
      "execution_count": null,
      "outputs": [
        {
          "output_type": "stream",
          "name": "stdout",
          "text": [
            "<class 'set'>\n"
          ]
        }
      ]
    },
    {
      "cell_type": "code",
      "source": [
        "mySet={\"boon\",\"moon\",\"cake\",\"plum\"}\n",
        "print(mySet)\n",
        "print(type(mySet))"
      ],
      "metadata": {
        "colab": {
          "base_uri": "https://localhost:8080/"
        },
        "id": "a098NnwsvQYM",
        "outputId": "927b1c7e-890f-46d5-f894-c5ed2897b21e"
      },
      "execution_count": null,
      "outputs": [
        {
          "output_type": "stream",
          "name": "stdout",
          "text": [
            "{'cake', 'moon', 'boon', 'plum'}\n",
            "<class 'set'>\n"
          ]
        }
      ]
    },
    {
      "cell_type": "code",
      "source": [
        "mySet2={\"boon\",\"moon\",\"cake\",\"plum\",\"boon\",\"cake\"}\n",
        "print(mySet2)\n",
        "//no duplicates"
      ],
      "metadata": {
        "colab": {
          "base_uri": "https://localhost:8080/"
        },
        "id": "uh9tU7HQv6lA",
        "outputId": "381bf540-7e89-4a58-c562-b11d03fb4c47"
      },
      "execution_count": null,
      "outputs": [
        {
          "output_type": "stream",
          "name": "stdout",
          "text": [
            "{'cake', 'moon', 'boon', 'plum'}\n"
          ]
        }
      ]
    },
    {
      "cell_type": "markdown",
      "source": [],
      "metadata": {
        "id": "UYptmfesvDlr"
      }
    }
  ]
}